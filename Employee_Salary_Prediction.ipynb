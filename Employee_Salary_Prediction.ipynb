{
  "nbformat": 4,
  "nbformat_minor": 0,
  "metadata": {
    "colab": {
      "provenance": [],
      "authorship_tag": "ABX9TyPApFFbvHzuteUq7cEUU8fM",
      "include_colab_link": true
    },
    "kernelspec": {
      "name": "python3",
      "display_name": "Python 3"
    },
    "language_info": {
      "name": "python"
    }
  },
  "cells": [
    {
      "cell_type": "markdown",
      "metadata": {
        "id": "view-in-github",
        "colab_type": "text"
      },
      "source": [
        "<a href=\"https://colab.research.google.com/github/Suneel-coder/EdunetIBM/blob/main/Employee_Salary_Prediction.ipynb\" target=\"_parent\"><img src=\"https://colab.research.google.com/assets/colab-badge.svg\" alt=\"Open In Colab\"/></a>"
      ]
    },
    {
      "cell_type": "markdown",
      "source": [
        "***Data Cleaning***"
      ],
      "metadata": {
        "id": "RRo0QksKLfuX"
      }
    },
    {
      "cell_type": "code",
      "execution_count": null,
      "metadata": {
        "colab": {
          "base_uri": "https://localhost:8080/"
        },
        "id": "aphlDlNmLalu",
        "outputId": "709fdecf-6efc-4350-d05d-b9aeaf1d8721"
      },
      "outputs": [
        {
          "output_type": "stream",
          "name": "stdout",
          "text": [
            "<class 'pandas.core.frame.DataFrame'>\n",
            "RangeIndex: 375 entries, 0 to 374\n",
            "Data columns (total 6 columns):\n",
            " #   Column               Non-Null Count  Dtype  \n",
            "---  ------               --------------  -----  \n",
            " 0   Age                  373 non-null    float64\n",
            " 1   Gender               373 non-null    object \n",
            " 2   Education Level      373 non-null    object \n",
            " 3   Job Title            373 non-null    object \n",
            " 4   Years of Experience  373 non-null    float64\n",
            " 5   Salary               373 non-null    float64\n",
            "dtypes: float64(3), object(3)\n",
            "memory usage: 17.7+ KB\n"
          ]
        },
        {
          "output_type": "execute_result",
          "data": {
            "text/plain": [
              "(None,\n",
              "     Age  Gender Education Level          Job Title  Years of Experience  \\\n",
              " 0  32.0    Male      Bachelor's  Software Engineer                  5.0   \n",
              " 1  28.0  Female        Master's       Data Analyst                  3.0   \n",
              " 2  45.0    Male             PhD     Senior Manager                 15.0   \n",
              " 3  36.0  Female      Bachelor's    Sales Associate                  7.0   \n",
              " 4  52.0    Male        Master's           Director                 20.0   \n",
              " \n",
              "      Salary  \n",
              " 0   90000.0  \n",
              " 1   65000.0  \n",
              " 2  150000.0  \n",
              " 3   60000.0  \n",
              " 4  200000.0  )"
            ]
          },
          "metadata": {},
          "execution_count": 25
        }
      ],
      "source": [
        "import pandas as pd\n",
        "# Load the dataset and check whether there are any null values or not\n",
        "file_path = \"/content/Salary Data_1.csv\"\n",
        "df = pd.read_csv(file_path)\n",
        "df.info(), df.head()"
      ]
    },
    {
      "cell_type": "code",
      "source": [
        "# Check for any null values in the columns and remove them using median or mean or any constant values\n",
        "missing_values = df.isnull().sum()\n",
        "df_cleaned = df.dropna()\n",
        "cleaned_null_check = df_cleaned.isnull().sum()\n",
        "rows_removed = len(df) - len(df_cleaned)\n",
        "missing_values, cleaned_null_check, rows_removed"
      ],
      "metadata": {
        "colab": {
          "base_uri": "https://localhost:8080/"
        },
        "id": "9ypH8FoKM0Qu",
        "outputId": "10f1cf76-a2b4-490e-bfed-d203f536ec1d"
      },
      "execution_count": null,
      "outputs": [
        {
          "output_type": "execute_result",
          "data": {
            "text/plain": [
              "(Age                    2\n",
              " Gender                 2\n",
              " Education Level        2\n",
              " Job Title              2\n",
              " Years of Experience    2\n",
              " Salary                 2\n",
              " dtype: int64,\n",
              " Age                    0\n",
              " Gender                 0\n",
              " Education Level        0\n",
              " Job Title              0\n",
              " Years of Experience    0\n",
              " Salary                 0\n",
              " dtype: int64,\n",
              " 2)"
            ]
          },
          "metadata": {},
          "execution_count": 26
        }
      ]
    },
    {
      "cell_type": "markdown",
      "source": [
        "***Outlier Detection and Removal Using Quartile Method***"
      ],
      "metadata": {
        "id": "D83cyp-VMl6r"
      }
    },
    {
      "cell_type": "code",
      "source": [
        "# this gives the visual representation of the outliers that are present but in this case there are no outliers\n",
        "\n",
        "import matplotlib.pyplot as plt\n",
        "import seaborn as sns\n",
        "sns.set(style=\"whitegrid\")\n",
        "numeric_cols = ['Age', 'Years of Experience', 'Salary']\n",
        "\n",
        "plt.figure(figsize=(15, 5))\n",
        "for i, col in enumerate(numeric_cols):\n",
        "    plt.subplot(1, 3, i + 1)\n",
        "    sns.boxplot(data=df_cleaned, y=col, color='skyblue')\n",
        "    plt.title(f\"Boxplot of {col}\")\n",
        "\n",
        "plt.tight_layout()\n",
        "plt.show()\n"
      ],
      "metadata": {
        "colab": {
          "base_uri": "https://localhost:8080/",
          "height": 380
        },
        "id": "mxX2Ts2HRmiw",
        "outputId": "72cf3365-b0d1-4c3e-c412-91c4a214c2dc"
      },
      "execution_count": null,
      "outputs": [
        {
          "output_type": "display_data",
          "data": {
            "text/plain": [
              "<Figure size 1500x500 with 3 Axes>"
            ],
            "image/png": "[encoded data removed]"
          },
          "metadata": {}
        }
      ]
    },
    {
      "cell_type": "code",
      "source": [
        "def remove_outliers_iqr(dataframe, columns):\n",
        "    for col in columns:\n",
        "        Q1 = dataframe[col].quantile(0.25)\n",
        "        Q3 = dataframe[col].quantile(0.75)\n",
        "        IQR = Q3 - Q1\n",
        "        lower = Q1 - 1.5 * IQR\n",
        "        upper = Q3 + 1.5 * IQR\n",
        "        dataframe = dataframe[(dataframe[col] >= lower) & (dataframe[col] <= upper)]\n",
        "    return dataframe\n",
        "numeric_cols = ['Age', 'Years of Experience', 'Salary']\n",
        "df_no_outliers = remove_outliers_iqr(df_cleaned, numeric_cols)\n",
        "rows_removed_outliers = len(df_cleaned) - len(df_no_outliers)\n",
        "df_no_outliers.describe(), rows_removed_outliers"
      ],
      "metadata": {
        "colab": {
          "base_uri": "https://localhost:8080/"
        },
        "id": "50GVpjcMMrC2",
        "outputId": "fb0b3f0a-536e-4e0a-b0a1-b3f767fe5948"
      },
      "execution_count": null,
      "outputs": [
        {
          "output_type": "execute_result",
          "data": {
            "text/plain": [
              "(              Age  Years of Experience         Salary\n",
              " count  373.000000           373.000000     373.000000\n",
              " mean    37.431635            10.030831  100577.345845\n",
              " std      7.069073             6.557007   48240.013482\n",
              " min     23.000000             0.000000     350.000000\n",
              " 25%     31.000000             4.000000   55000.000000\n",
              " 50%     36.000000             9.000000   95000.000000\n",
              " 75%     44.000000            15.000000  140000.000000\n",
              " max     53.000000            25.000000  250000.000000,\n",
              " 0)"
            ]
          },
          "metadata": {},
          "execution_count": 28
        }
      ]
    },
    {
      "cell_type": "markdown",
      "source": [
        "***Training and Spliting the data***"
      ],
      "metadata": {
        "id": "MXs9QMwGNdCT"
      }
    },
    {
      "cell_type": "code",
      "source": [
        "# now we have to encode the columns where it is like categorical like yes or no and we have to assign 0 or 1 to that column for easy understanding for the machine\n",
        "from sklearn.preprocessing import LabelEncoder\n",
        "df_encoded = df_no_outliers.copy()\n",
        "label_cols = ['Gender', 'Education Level', 'Job Title']\n",
        "for col in label_cols:\n",
        "    le = LabelEncoder()\n",
        "    df_encoded[col] = le.fit_transform(df_encoded[col])\n"
      ],
      "metadata": {
        "id": "gl2S05vPNihI"
      },
      "execution_count": null,
      "outputs": []
    },
    {
      "cell_type": "code",
      "source": [
        "# now split the features and target what we are predicting\n",
        "X = df_encoded.drop(\"Salary\", axis=1)\n",
        "y = df_encoded[\"Salary\"]"
      ],
      "metadata": {
        "id": "cjmk5zvsN3rm"
      },
      "execution_count": null,
      "outputs": []
    },
    {
      "cell_type": "code",
      "source": [
        "# now after doing this we need divide the data set for training and testing\n",
        "# here i am using cross fold validation so that there be will minimum error because one fold validation may miss the main\n",
        "# features in the test set and results in bad accuracy\n",
        "# so by using this we give every set to the testing and training to overcome this problem\n",
        "from sklearn.model_selection import train_test_split\n",
        "\n",
        "X_train, X_test, y_train, y_test = train_test_split(\n",
        "    X, y, test_size=0.2, random_state=42\n",
        ")\n",
        "print(X_train.shape, X_test.shape)"
      ],
      "metadata": {
        "colab": {
          "base_uri": "https://localhost:8080/"
        },
        "id": "L7OB2qj7OAXa",
        "outputId": "fd889452-4b21-43f5-d1d0-28151a5c2ea1"
      },
      "execution_count": null,
      "outputs": [
        {
          "output_type": "stream",
          "name": "stdout",
          "text": [
            "(298, 5) (75, 5)\n"
          ]
        }
      ]
    },
    {
      "cell_type": "markdown",
      "source": [
        "***Model Training and Evaluation***"
      ],
      "metadata": {
        "id": "telqyvW-OsAd"
      }
    },
    {
      "cell_type": "markdown",
      "source": [
        "I defined a dictionary where it contains all the regression model\n",
        "\n",
        "I now defined a pipeline because normally pipeline is a way to organize and automate steps in modelling process\n",
        "\n",
        "In that i gave StandardScaler and Regressor\n",
        "\n",
        "Now just i did the basic model training and did the prediction process\n",
        "\n",
        "Here i used 2 metrics R2 and MAE (Mean Absoulte Error)\n",
        "\n",
        "because R2 is used to Measure how well the model explains the variability of the target variable.\n",
        "\n",
        "and MAE is used to Measure average of absolute errors between predicted and actual values Which gives a clear idea of how wrong predictions are on average"
      ],
      "metadata": {
        "id": "6PnI6uUxPNV_"
      }
    },
    {
      "cell_type": "code",
      "source": [
        "# here i am defining different regression models because to get the best model which gives us the best accuracy\n",
        "# by this our model will work perfectly\n",
        "\n",
        "\n",
        "from sklearn.linear_model import LinearRegression\n",
        "from sklearn.ensemble import RandomForestRegressor, GradientBoostingRegressor\n",
        "from sklearn.neighbors import KNeighborsRegressor\n",
        "from sklearn.svm import SVR\n",
        "from sklearn.pipeline import Pipeline\n",
        "from sklearn.preprocessing import StandardScaler\n",
        "from sklearn.metrics import mean_absolute_error, r2_score\n",
        "import matplotlib.pyplot as plt\n",
        "import joblib\n",
        "\n",
        "# Define regression models\n",
        "models = {\n",
        "    \"LinearRegression\": LinearRegression(),\n",
        "    \"RandomForest\": RandomForestRegressor(),\n",
        "    \"KNN\": KNeighborsRegressor(),\n",
        "    \"SVM\": SVR(),\n",
        "    \"GradientBoosting\": GradientBoostingRegressor()\n",
        "}\n",
        "\n",
        "results = {}\n",
        "best_model = None\n",
        "best_score = -1\n",
        "for name, model in models.items():\n",
        "    pipe = Pipeline([\n",
        "        ('scaler', StandardScaler()),\n",
        "        ('regressor', model)\n",
        "    ])\n",
        "\n",
        "    pipe.fit(X_train, y_train)\n",
        "    y_pred = pipe.predict(X_test)\n",
        "    r2 = r2_score(y_test, y_pred)\n",
        "    mae = mean_absolute_error(y_test, y_pred)\n",
        "\n",
        "    results[name] = r2\n",
        "    print(f\"{name} - R² Score: {r2:.4f}, MAE: {mae:.2f}\")\n",
        "\n",
        "    if r2 > best_score:\n",
        "        best_score = r2\n",
        "        best_model = pipe\n",
        "        best_model_name = name\n",
        "joblib.dump(best_model, \"best_salary_model.pkl\")\n",
        "print(f\"\\n Best model: {best_model_name} (R² = {best_score:.4f}) saved as best_salary_model.pkl\")"
      ],
      "metadata": {
        "colab": {
          "base_uri": "https://localhost:8080/"
        },
        "id": "BGKWLPSuOrZ-",
        "outputId": "7d5b59eb-e804-4aa6-a3ae-79668bf9a8d5"
      },
      "execution_count": null,
      "outputs": [
        {
          "output_type": "stream",
          "name": "stdout",
          "text": [
            "LinearRegression - R² Score: 0.8961, MAE: 10928.92\n",
            "RandomForest - R² Score: 0.9350, MAE: 8854.56\n",
            "KNN - R² Score: 0.8938, MAE: 10679.07\n",
            "SVM - R² Score: -0.0220, MAE: 40502.98\n",
            "GradientBoosting - R² Score: 0.9269, MAE: 8908.62\n",
            "\n",
            " Best model: RandomForest (R² = 0.9350) saved as best_salary_model.pkl\n"
          ]
        }
      ]
    },
    {
      "cell_type": "markdown",
      "source": [
        "***Graph Plotting***"
      ],
      "metadata": {
        "id": "Ub646ptCRJ6Z"
      }
    },
    {
      "cell_type": "code",
      "source": [
        "# Plot model R² scores\n",
        "plt.figure(figsize=(8, 5))\n",
        "plt.bar(results.keys(), results.values(), color='skyblue')\n",
        "plt.title(\"Model Comparison - R² Score\")\n",
        "plt.ylabel(\"R² Score\")\n",
        "plt.xticks(rotation=45)\n",
        "plt.grid(True)\n",
        "plt.tight_layout()\n",
        "plt.show()"
      ],
      "metadata": {
        "colab": {
          "base_uri": "https://localhost:8080/",
          "height": 501
        },
        "id": "MWj0MIGkRHQB",
        "outputId": "7c5dde9e-6b05-4744-9e75-2bdce0f51700"
      },
      "execution_count": null,
      "outputs": [
        {
          "output_type": "display_data",
          "data": {
            "text/plain": [
              "<Figure size 800x500 with 1 Axes>"
            ],
            "image/png": "[encoded data removed]"
          },
          "metadata": {}
        }
      ]
    },
    {
      "cell_type": "markdown",
      "source": [
        "Salary Prediction"
      ],
      "metadata": {
        "id": "o9JaorEHX8MF"
      }
    },
    {
      "cell_type": "code",
      "source": [
        "import pandas as pd\n",
        "\n",
        "df = pd.read_csv(\"Salary Data_1.csv\")\n",
        "print(df.columns.tolist())\n"
      ],
      "metadata": {
        "colab": {
          "base_uri": "https://localhost:8080/"
        },
        "id": "Fh2OTaHcYeHy",
        "outputId": "65b285e7-f0b0-4678-f2dd-97a6f1df7734"
      },
      "execution_count": null,
      "outputs": [
        {
          "output_type": "stream",
          "name": "stdout",
          "text": [
            "['Age', 'Gender', 'Education Level', 'Job Title', 'Years of Experience', 'Salary']\n"
          ]
        }
      ]
    },
    {
      "cell_type": "code",
      "source": [
        "import joblib\n",
        "import pandas as pd\n",
        "from sklearn.preprocessing import LabelEncoder\n",
        "\n",
        "model = joblib.load(\"best_salary_model.pkl\")\n",
        "\n",
        "df = pd.read_csv(\"Salary Data_1.csv\")\n",
        "job_titles = df[\"Job Title\"].unique().tolist()\n",
        "\n",
        "job_encoder = LabelEncoder()\n",
        "job_encoder.fit(job_titles)\n",
        "\n",
        "# now i am trying to get inputs from the user\n",
        "try:\n",
        "    age_input = input(\"Enter Age: \").strip()\n",
        "    experience_input = input(\"Enter Years of Experience: \").strip()\n",
        "    job_title = input(\"Enter Job Title: \").strip()\n",
        "    gender_input = input(\"Enter Gender (Male/Female): \").strip().lower()\n",
        "\n",
        "    age = float(age_input)\n",
        "    experience = float(experience_input)\n",
        "    if job_title not in job_titles:\n",
        "        print(f\"❌ Error: '{job_title}' is not a recognized job title.\")\n",
        "        print(f\"👉 Available options: {', '.join(job_titles)}\")\n",
        "        exit()\n",
        "\n",
        "    if gender_input == \"male\":\n",
        "        gender = 1\n",
        "    elif gender_input == \"female\":\n",
        "        gender = 0\n",
        "    else:\n",
        "        print(\"❌ Error: Gender must be 'Male' or 'Female'.\")\n",
        "        exit()\n",
        "\n",
        "    job_encoded = job_encoder.transform([job_title])[0]\n",
        "\n",
        "    education_level = 2  # Bachelor's Degree\n",
        "\n",
        "    input_df = pd.DataFrame([[\n",
        "        age,\n",
        "        gender,\n",
        "        education_level,\n",
        "        job_encoded,\n",
        "        experience\n",
        "    ]], columns=[\n",
        "        'Age',\n",
        "        'Gender',\n",
        "        'Education Level',\n",
        "        'Job Title',\n",
        "        'Years of Experience'\n",
        "    ])\n",
        "# Here i am predicting the salary of that employee\n",
        "    predicted_salary = model.predict(input_df)[0]\n",
        "    print(f\"\\nPredicted Salary: ₹{predicted_salary:,.2f}\")\n",
        "\n",
        "except ValueError as e:\n",
        "    print(f\"Invalid input! Error details: {e}\")\n",
        "    print(f\"You entered: Age = '{age_input}', Experience = '{experience_input}'\")\n"
      ],
      "metadata": {
        "colab": {
          "base_uri": "https://localhost:8080/"
        },
        "id": "1LaPFnr4WK0K",
        "outputId": "17bdaf11-204d-49dc-869b-351e956954db"
      },
      "execution_count": null,
      "outputs": [
        {
          "output_type": "stream",
          "name": "stdout",
          "text": [
            "Enter Age: 25\n",
            "Enter Years of Experience: 2\n",
            "Enter Job Title: Software Engineer\n",
            "Enter Gender (Male/Female): Male\n",
            "\n",
            "💰 Predicted Salary: ₹50,650.00\n"
          ]
        }
      ]
    }
  ]
}